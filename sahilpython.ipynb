{
  "nbformat": 4,
  "nbformat_minor": 0,
  "metadata": {
    "colab": {
      "name": "sahilpython.ipynb",
      "provenance": [],
      "collapsed_sections": [],
      "authorship_tag": "ABX9TyOt8le+hZ8nZn31yJrB4fCM",
      "include_colab_link": true
    },
    "kernelspec": {
      "name": "python3",
      "display_name": "Python 3"
    },
    "language_info": {
      "name": "python"
    }
  },
  "cells": [
    {
      "cell_type": "markdown",
      "metadata": {
        "id": "view-in-github",
        "colab_type": "text"
      },
      "source": [
        "<a href=\"https://colab.research.google.com/github/sahilg28/SAHLPYTHONbasics1/blob/main/sahilpython.ipynb\" target=\"_parent\"><img src=\"https://colab.research.google.com/assets/colab-badge.svg\" alt=\"Open In Colab\"/></a>"
      ]
    },
    {
      "cell_type": "code",
      "metadata": {
        "colab": {
          "base_uri": "https://localhost:8080/"
        },
        "id": "QSePJmsswQ4i",
        "outputId": "dff51538-9c1a-4de3-f86f-27e3f77749be"
      },
      "source": [
        "\"\"\"write a program to print this number pattern\n",
        "1\n",
        "22\n",
        "333\n",
        "4444\n",
        "55555\"\"\"\n",
        "\n",
        "def pattern(n):\n",
        "  x=0\n",
        "  for i in range(0,n):\n",
        "    x+=1\n",
        "    for j in range(0,i+1):\n",
        "      print(x,end=\"\")\n",
        "    print('\\r')\n",
        "\n",
        "pattern(5)      \n"
      ],
      "execution_count": 2,
      "outputs": [
        {
          "output_type": "stream",
          "name": "stdout",
          "text": [
            "1\r\n",
            "22\r\n",
            "333\r\n",
            "4444\r\n",
            "55555\r\n"
          ]
        }
      ]
    },
    {
      "cell_type": "code",
      "metadata": {
        "colab": {
          "base_uri": "https://localhost:8080/"
        },
        "id": "ziiayhQbl6OK",
        "outputId": "b6f5bcb7-149d-4853-f298-10f422b47ffa"
      },
      "source": [
        "#checking length of the strings\n",
        "st=input(\"\")\n",
        "if len(st)==5:\n",
        "  print(\"true\")\n",
        "else:\n",
        "  print(\"false\")  "
      ],
      "execution_count": 6,
      "outputs": [
        {
          "output_type": "stream",
          "name": "stdout",
          "text": [
            "sahil\n",
            "true\n"
          ]
        }
      ]
    },
    {
      "cell_type": "code",
      "metadata": {
        "colab": {
          "base_uri": "https://localhost:8080/"
        },
        "id": "mV4578zwnN8H",
        "outputId": "880cb226-2e04-44ce-ed9d-087c61e553d9"
      },
      "source": [
        "#checking the string is a palindrome or not\n",
        "a = input('')\n",
        "b = a[::-1]\n",
        "if(a==b):\n",
        "  print(\"it is palindrome\")\n",
        "else:\n",
        "  print(\"not a palindrome\")  \n",
        "\n"
      ],
      "execution_count": 12,
      "outputs": [
        {
          "output_type": "stream",
          "name": "stdout",
          "text": [
            "sahil\n",
            "not a palindrome\n"
          ]
        }
      ]
    }
  ]
}