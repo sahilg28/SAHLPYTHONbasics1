{
  "nbformat": 4,
  "nbformat_minor": 0,
  "metadata": {
    "colab": {
      "name": "sahilpython_4.ipynb",
      "provenance": [],
      "collapsed_sections": [],
      "authorship_tag": "ABX9TyO2/ReTt7REAgVtFxPgbM69",
      "include_colab_link": true
    },
    "kernelspec": {
      "name": "python3",
      "display_name": "Python 3"
    },
    "language_info": {
      "name": "python"
    }
  },
  "cells": [
    {
      "cell_type": "markdown",
      "metadata": {
        "id": "view-in-github",
        "colab_type": "text"
      },
      "source": [
        "<a href=\"https://colab.research.google.com/github/sahilg28/SAHLPYTHONbasics1/blob/main/sahilpython_4.ipynb\" target=\"_parent\"><img src=\"https://colab.research.google.com/assets/colab-badge.svg\" alt=\"Open In Colab\"/></a>"
      ]
    },
    {
      "cell_type": "code",
      "metadata": {
        "colab": {
          "base_uri": "https://localhost:8080/",
          "height": 248
        },
        "id": "B5PE2MUYpHrV",
        "outputId": "4d27bc89-211d-4bea-c395-44f1e7a2b1a4"
      },
      "source": [
        "#data visualization\n",
        "\n",
        "import matplotlib.pyplot as pl\n",
        "\n",
        "#Bar graph\n",
        "\n",
        "# a = [1,2,3,4,5]\n",
        "# b = [1,4,9,16,20]\n",
        "# pl.bar(a,b)\n",
        "# pl.xlabel('N')\n",
        "# pl.ylabel('N*N')\n",
        "# pl.bar(a,b,color = ['g','r','y','c','k'])\n",
        "# pl.show()\n",
        "\n",
        "#Horizontal bar graph\n",
        "# a = ['grapes','banana','apple','guava']\n",
        "# x = [4,1,2,5]\n",
        "# pl.barh(a,x)\n",
        "# pl.show()\n",
        "\n",
        "#Pie graph\n",
        "c = [4,1,8,9]\n",
        "pl.axis('equal')\n",
        "pl.pie(c)\n",
        "pl.show()\n",
        "\n"
      ],
      "execution_count": 2,
      "outputs": [
        {
          "output_type": "display_data",
          "data": {
            "image/png": "[encoded data removed]",
            "text/plain": [
              "<Figure size 432x288 with 1 Axes>"
            ]
          },
          "metadata": {}
        }
      ]
    }
  ]
}