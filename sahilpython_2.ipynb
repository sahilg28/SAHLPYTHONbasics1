{
  "nbformat": 4,
  "nbformat_minor": 0,
  "metadata": {
    "colab": {
      "name": "sahilpython_2.ipynb",
      "provenance": [],
      "collapsed_sections": [],
      "authorship_tag": "ABX9TyM+tYS7qos2DD8c8QzmST4F",
      "include_colab_link": true
    },
    "kernelspec": {
      "name": "python3",
      "display_name": "Python 3"
    },
    "language_info": {
      "name": "python"
    }
  },
  "cells": [
    {
      "cell_type": "markdown",
      "metadata": {
        "id": "view-in-github",
        "colab_type": "text"
      },
      "source": [
        "<a href=\"https://colab.research.google.com/github/sahilg28/SAHLPYTHONbasics1/blob/main/sahilpython_2.ipynb\" target=\"_parent\"><img src=\"https://colab.research.google.com/assets/colab-badge.svg\" alt=\"Open In Colab\"/></a>"
      ]
    },
    {
      "cell_type": "code",
      "metadata": {
        "colab": {
          "base_uri": "https://localhost:8080/"
        },
        "id": "OE3UmAwV98L6",
        "outputId": "a25f6ce2-04e6-40f3-dd56-9ec51df9dd76"
      },
      "source": [
        "#practicing list and random module\n",
        "import random\n",
        "\n",
        "mylist = ['mahinder.singh dhnoi','ronaldo','dhyanchand','vishwananthan anand','carryminati']\n",
        "\n",
        "print(random.choice(mylist))\n",
        "\n",
        "a = ['cricket','football','hockey','video games','chess']\n",
        "print(random.choice(a))"
      ],
      "execution_count": 36,
      "outputs": [
        {
          "output_type": "stream",
          "name": "stdout",
          "text": [
            "vishwananthan anand\n",
            "hockey\n"
          ]
        }
      ]
    },
    {
      "cell_type": "code",
      "metadata": {
        "colab": {
          "base_uri": "https://localhost:8080/"
        },
        "id": "kHJkhwzQynY3",
        "outputId": "a2423d76-90fa-4216-b731-7581e422a3b2"
      },
      "source": [
        "#practicing if,else statements\n",
        "print(\"Hi\")\n",
        "a = input('')\n",
        "if a =='Hi'or'hi'or'HI'or'hello'or'HELLO'or'Hello':\n",
        "  print('welcome to sahilhub! what is your query')\n",
        "else :\n",
        "  print('yes! what is your query tell me I will give my best to solve your queries')  "
      ],
      "execution_count": null,
      "outputs": [
        {
          "output_type": "stream",
          "name": "stdout",
          "text": [
            "Hi\n",
            "hi\n",
            "welcome to sahilhub! what is your query\n"
          ]
        }
      ]
    },
    {
      "cell_type": "code",
      "metadata": {
        "colab": {
          "base_uri": "https://localhost:8080/"
        },
        "id": "dgRzcy8qLqzP",
        "outputId": "7b7ddb40-2866-41b9-b39b-2b1705710834"
      },
      "source": [
        "#practicing function\n",
        "def a(n):\n",
        "  if n == 0:\n",
        "   print(\"Happy New Year!\")\n",
        "  else:\n",
        "    print(n)\n",
        "    a(n-1)\n",
        "a(5)    "
      ],
      "execution_count": 14,
      "outputs": [
        {
          "output_type": "stream",
          "name": "stdout",
          "text": [
            "5\n",
            "4\n",
            "3\n",
            "2\n",
            "1\n",
            "Happy New Year!\n"
          ]
        }
      ]
    },
    {
      "cell_type": "code",
      "metadata": {
        "colab": {
          "base_uri": "https://localhost:8080/"
        },
        "id": "ILAjrayqMQQ9",
        "outputId": "d121922e-b9d8-449f-b482-72f9db16f83f"
      },
      "source": [
        "#checking the string is palindrome or not\n",
        "a = input()\n",
        "b = a[::-1]\n",
        "if(a==b):\n",
        "  print('palindrome word')\n",
        "else:\n",
        "  print('not a palindrome word')  "
      ],
      "execution_count": 29,
      "outputs": [
        {
          "output_type": "stream",
          "name": "stdout",
          "text": [
            "tinnit\n",
            "palindrome word\n"
          ]
        }
      ]
    },
    {
      "cell_type": "code",
      "metadata": {
        "colab": {
          "base_uri": "https://localhost:8080/"
        },
        "id": "NhMRNFGkOcGi",
        "outputId": "1c0203ae-5b03-4b71-fd22-e3bec9257312"
      },
      "source": [
        "#for loop\n",
        "a = int(input('enter your number:'))\n",
        "for i in range (1,5):\n",
        "  print(a*2,end='')"
      ],
      "execution_count": 34,
      "outputs": [
        {
          "output_type": "stream",
          "name": "stdout",
          "text": [
            "enter your number:5\n",
            "10101010"
          ]
        }
      ]
    }
  ]
}